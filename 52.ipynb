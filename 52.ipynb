{
 "cells": [
  {
   "cell_type": "code",
   "execution_count": null,
   "metadata": {},
   "outputs": [
    {
     "name": "stdout",
     "output_type": "stream",
     "text": [
      "Input number of data sets:\n"
     ]
    }
   ],
   "source": [
    "import re\n",
    "print(\"Input number of data sets:\")\n",
    "class c(int):\n",
    "    def __add__(self,n):\n",
    "        return c(int(self)+int(n))\n",
    "    def __sub__(self,n):\n",
    "        return c(int(self)-int(n))\n",
    "    def __mul__(self,n):\n",
    "        return c(int(self)*int(n))\n",
    "    def __truediv__(self,n):\n",
    "        return c(int(int(self)/int(n)))\n",
    "   \n",
    "for _ in range(int(input())):\n",
    "  print(\"Input an expression:\")\n",
    "  print(eval(re.sub(r'(\\d+)',r'c(\\1)',input()[:-1])))"
   ]
  }
 ],
 "metadata": {
  "kernelspec": {
   "display_name": "Python 3",
   "language": "python",
   "name": "python3"
  },
  "language_info": {
   "codemirror_mode": {
    "name": "ipython",
    "version": 3
   },
   "file_extension": ".py",
   "mimetype": "text/x-python",
   "name": "python",
   "nbconvert_exporter": "python",
   "pygments_lexer": "ipython3",
   "version": "3.7.6"
  }
 },
 "nbformat": 4,
 "nbformat_minor": 4
}
