{
 "cells": [
  {
   "cell_type": "code",
   "execution_count": 1,
   "metadata": {},
   "outputs": [
    {
     "name": "stdout",
     "output_type": "stream",
     "text": [
      "Original string:\n",
      "KDeoALOklOOHserfLoAJSIskdsf\n",
      "After removing lowercase letters, above string becomes:\n",
      "KDALOOOHLAJSI\n"
     ]
    }
   ],
   "source": [
    "import re\n",
    "str1 = 'KDeoALOklOOHserfLoAJSIskdsf'\n",
    "print(\"Original string:\")\n",
    "print(str1)\n",
    "print(\"After removing lowercase letters, above string becomes:\")\n",
    "remove_lower = lambda text: re.sub('[a-z]', '', text)\n",
    "result =  remove_lower(str1)\n",
    "print(result)\n"
   ]
  }
 ],
 "metadata": {
  "kernelspec": {
   "display_name": "Python 3",
   "language": "python",
   "name": "python3"
  },
  "language_info": {
   "codemirror_mode": {
    "name": "ipython",
    "version": 3
   },
   "file_extension": ".py",
   "mimetype": "text/x-python",
   "name": "python",
   "nbconvert_exporter": "python",
   "pygments_lexer": "ipython3",
   "version": "3.7.6"
  }
 },
 "nbformat": 4,
 "nbformat_minor": 4
}
